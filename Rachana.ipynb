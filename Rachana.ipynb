{
 "cells": [
  {
   "cell_type": "code",
   "execution_count": 1,
   "id": "aebc1a4f-a039-4b61-a0e3-3204df69b535",
   "metadata": {},
   "outputs": [
    {
     "data": {
      "text/plain": [
       "5"
      ]
     },
     "execution_count": 1,
     "metadata": {},
     "output_type": "execute_result"
    }
   ],
   "source": [
    "2+3"
   ]
  },
  {
   "cell_type": "code",
   "execution_count": 2,
   "id": "d0c1d672-eb9a-4bce-9344-8eb68ea3f00c",
   "metadata": {},
   "outputs": [
    {
     "name": "stdout",
     "output_type": "stream",
     "text": [
      "Employee Details\n",
      "Name:John\n",
      "Total Salary:18000 is total salary of all\n",
      "6000.0 is average salary of all\n",
      "Name:Ada\n",
      "Total Salary:18000 is total salary of all\n",
      "6000.0 is average salary of all\n",
      "Name:Bob\n",
      "Total Salary:18000 is total salary of all\n",
      "6000.0 is average salary of all\n"
     ]
    }
   ],
   "source": [
    "employees=[\n",
    "    {\"name\":\"John\",\"salary\":5000},\n",
    "    {\"name\":\"Ada\",\"salary\":6000},\n",
    "    {\"name\":\"Bob\",\"salary\":7000},\n",
    "]\n",
    "total_salary=sum(emp[\"salary\"] for emp in employees)\n",
    "average_salary=total_salary/len(employees)\n",
    "print(\"Employee Details\")\n",
    "for emp in employees:\n",
    "    print(f\"Name:{emp['name']}\")\n",
    "    print(f\"Total Salary:{total_salary} is total salary of all\")\n",
    "    print(f\"{average_salary} is average salary of all\")"
   ]
  },
  {
   "cell_type": "code",
   "execution_count": 4,
   "id": "1149536c-f92e-4fb7-8450-8a424b71637d",
   "metadata": {},
   "outputs": [
    {
     "name": "stdout",
     "output_type": "stream",
     "text": [
      "1 \n",
      "2 \n",
      "3 \n",
      "5 \n",
      "8 \n",
      "13 \n",
      "21 \n",
      "34 \n",
      "55 \n",
      "89 \n"
     ]
    }
   ],
   "source": [
    "n = 10\n",
    "num1 = 0\n",
    "num2 = 1\n",
    "next_number = num2\n",
    "count = 1\n",
    "while count <= n:\n",
    "    print(next_number,end=\" \")\n",
    "    count += 1\n",
    "    num1,num2 = num2,next_number\n",
    "    next_number = num1 + num2\n",
    "    print()"
   ]
  },
  {
   "cell_type": "code",
   "execution_count": 7,
   "id": "682f3788-851a-47cd-ba60-ec7929ccdd69",
   "metadata": {},
   "outputs": [
    {
     "name": "stdout",
     "output_type": "stream",
     "text": [
      "34\n"
     ]
    }
   ],
   "source": [
    "def Fibonacci(n):\n",
    "    if n<0:\n",
    "     print(\"Incorrect input\")\n",
    "    elif n == 0:\n",
    "     return 0\n",
    "    elif n == 1 or n == 2:\n",
    "     return 1\n",
    "    else:\n",
    "     return Fibonacci(n-1) + Fibonacci(n-2)\n",
    "print(Fibonacci(9))"
   ]
  },
  {
   "cell_type": "code",
   "execution_count": 9,
   "id": "0ea712d9-1b06-4798-9d60-abdf4ae234cf",
   "metadata": {},
   "outputs": [
    {
     "name": "stdout",
     "output_type": "stream",
     "text": [
      "Matrix Sum:\n",
      " [[ 6  8]\n",
      " [10 12]]\n",
      "Matrix Product:\n",
      " [[19 22]\n",
      " [43 50]]\n"
     ]
    },
    {
     "ename": "TypeError",
     "evalue": "unhashable type: 'list'",
     "output_type": "error",
     "traceback": [
      "\u001b[1;31m---------------------------------------------------------------------------\u001b[0m",
      "\u001b[1;31mTypeError\u001b[0m                                 Traceback (most recent call last)",
      "Cell \u001b[1;32mIn[9], line 9\u001b[0m\n\u001b[0;32m      7\u001b[0m \u001b[38;5;28mprint\u001b[39m(\u001b[38;5;124m\"\u001b[39m\u001b[38;5;124mMatrix Sum:\u001b[39m\u001b[38;5;130;01m\\n\u001b[39;00m\u001b[38;5;124m\"\u001b[39m, matrix_sum)\n\u001b[0;32m      8\u001b[0m \u001b[38;5;28mprint\u001b[39m(\u001b[38;5;124m\"\u001b[39m\u001b[38;5;124mMatrix Product:\u001b[39m\u001b[38;5;130;01m\\n\u001b[39;00m\u001b[38;5;124m\"\u001b[39m, matrix_product)\n\u001b[1;32m----> 9\u001b[0m A \u001b[38;5;241m=\u001b[39m np\u001b[38;5;241m.\u001b[39marray({[\u001b[38;5;241m3\u001b[39m, \u001b[38;5;241m1\u001b[39m], [\u001b[38;5;241m1\u001b[39m, \u001b[38;5;241m2\u001b[39m]})\n\u001b[0;32m     10\u001b[0m B \u001b[38;5;241m=\u001b[39m np\u001b[38;5;241m.\u001b[39marray([\u001b[38;5;241m9\u001b[39m, \u001b[38;5;241m8\u001b[39m])\n\u001b[0;32m     11\u001b[0m solution \u001b[38;5;241m=\u001b[39m linalg\u001b[38;5;241m.\u001b[39msolve(A, B)\n",
      "\u001b[1;31mTypeError\u001b[0m: unhashable type: 'list'"
     ]
    }
   ],
   "source": [
    "import numpy as np\n",
    "from scipy import linalg\n",
    "matrix1 = np.array([[1, 2], [3, 4]])\n",
    "matrix2 = np.array([[5, 6], [7, 8]])\n",
    "matrix_sum = matrix1 + matrix2\n",
    "matrix_product = np.dot(matrix1, matrix2)\n",
    "print(\"Matrix Sum:\\n\", matrix_sum)\n",
    "print(\"Matrix Product:\\n\", matrix_product)\n",
    "A = np.array({[3, 1], [1, 2]})\n",
    "B = np.array([9, 8])\n",
    "solution = linalg.solve(A, B)\n",
    "print(\"Solution to Ax = B:\",solution)"
   ]
  },
  {
   "cell_type": "code",
   "execution_count": 14,
   "id": "742d04fa-a162-4229-bbf8-4d7989463e38",
   "metadata": {},
   "outputs": [
    {
     "name": "stdout",
     "output_type": "stream",
     "text": [
      "Matrix sum:\n",
      " [[ 6  8]\n",
      " [10 12]]\n",
      "Matrix Product:\n",
      " [[19 22]\n",
      " [43 50]]\n",
      "Solution to Ax = B: [2. 3.]\n"
     ]
    }
   ],
   "source": [
    "import numpy as np\n",
    "from scipy import linalg\n",
    "# Define two matrices\n",
    "matrix1 = np.array([[1, 2],[3, 4]])\n",
    "matrix2 = np.array([[5, 6],[7, 8]])\n",
    "# matrix operations\n",
    "matrix_sum = matrix1 + matrix2\n",
    "matrix_product = np.dot(matrix1, matrix2)\n",
    "print(\"Matrix sum:\\n\", matrix_sum)\n",
    "print(\"Matrix Product:\\n\", matrix_product)\n",
    "# solve a system of linear equations: Ax = B\n",
    "A = np.array([[3, 1], [1, 2]])\n",
    "B = np.array([9, 8])\n",
    "solution = linalg.solve(A, B)\n",
    "print(\"Solution to Ax = B:\",solution)"
   ]
  },
  {
   "cell_type": "code",
   "execution_count": null,
   "id": "afe6e4ae-a2c5-4f47-bc76-2158f6d5d68a",
   "metadata": {},
   "outputs": [],
   "source": [
    "#Python code to demonstrate the working of mean(), median(), mode()\n",
    "# importing statistics to handle statistical operations\n",
    "from statistics import mean\n",
    "from statistics import mode\n",
    "from statistics import median\n",
    "from statistics import median_low\n",
    "from statistics import median_high\n",
    "from statistics import median_high\n",
    "from statistics import variance\n",
    "from statistics import stdev\n",
    "#List of positive integer numbers\n",
    "data1 = [20, 30, 40, 20, 50, 50, 70, 90, 50, 10]\n",
    "#List of floating point values"
   ]
  }
 ],
 "metadata": {
  "kernelspec": {
   "display_name": "Python 3 (ipykernel)",
   "language": "python",
   "name": "python3"
  },
  "language_info": {
   "codemirror_mode": {
    "name": "ipython",
    "version": 3
   },
   "file_extension": ".py",
   "mimetype": "text/x-python",
   "name": "python",
   "nbconvert_exporter": "python",
   "pygments_lexer": "ipython3",
   "version": "3.12.7"
  }
 },
 "nbformat": 4,
 "nbformat_minor": 5
}
